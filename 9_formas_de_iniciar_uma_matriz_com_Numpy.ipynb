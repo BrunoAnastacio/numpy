{
  "nbformat": 4,
  "nbformat_minor": 0,
  "metadata": {
    "colab": {
      "name": "9 formas de iniciar uma matriz com Numpy",
      "provenance": [],
      "authorship_tag": "ABX9TyMIaMd4QulKznkBBdAmvfT1",
      "include_colab_link": true
    },
    "kernelspec": {
      "name": "python3",
      "display_name": "Python 3"
    }
  },
  "cells": [
    {
      "cell_type": "markdown",
      "metadata": {
        "id": "view-in-github",
        "colab_type": "text"
      },
      "source": [
        "<a href=\"https://colab.research.google.com/github/BrunoAnastacio/numpy/blob/main/9_formas_de_iniciar_uma_matriz_com_Numpy.ipynb\" target=\"_parent\"><img src=\"https://colab.research.google.com/assets/colab-badge.svg\" alt=\"Open In Colab\"/></a>"
      ]
    },
    {
      "cell_type": "code",
      "metadata": {
        "id": "jQXX-NKrQ8oQ"
      },
      "source": [
        "import numpy as np"
      ],
      "execution_count": 1,
      "outputs": []
    },
    {
      "cell_type": "code",
      "metadata": {
        "id": "uxC0YSgGRGI3",
        "outputId": "400a6aa7-a98e-4519-9b71-7db252a341ef",
        "colab": {
          "base_uri": "https://localhost:8080/"
        }
      },
      "source": [
        "#1 - utilizando o metodo np.array, recebendo uma lista em Python como parâmetro\n",
        "v = np.array([1,2,3])\n",
        "\n",
        "matriz = [[1,2,3],[4,5,6]]\n",
        "\n",
        "m = np.array(matriz)\n",
        "\n",
        "print (v)\n",
        "print (m)"
      ],
      "execution_count": 5,
      "outputs": [
        {
          "output_type": "stream",
          "text": [
            "[1 2 3]\n",
            "[[1 2 3]\n",
            " [4 5 6]]\n"
          ],
          "name": "stdout"
        }
      ]
    },
    {
      "cell_type": "code",
      "metadata": {
        "id": "zyRGk2D3SYMK",
        "outputId": "b114954f-da51-4f13-f258-8b78b25de2b8",
        "colab": {
          "base_uri": "https://localhost:8080/"
        }
      },
      "source": [
        "#2 - usando np.arange, que cria um array no melhor estilo \"start, stop, step\" das 'ranges' em Python\n",
        "#Como parâmetros, devemos passar o número onde começa o nosso vetor, o número onde ele termina e de quantos em quantos números ele deve pular\n",
        "\n",
        "a = np.arange(10,100,5)\n",
        "b = np.arange(100,20,-20) #entendeu o que aconteceu aqui?\n",
        "print (a)\n",
        "print (b)"
      ],
      "execution_count": 6,
      "outputs": [
        {
          "output_type": "stream",
          "text": [
            "[10 15 20 25 30 35 40 45 50 55 60 65 70 75 80 85 90 95]\n",
            "[100  80  60  40]\n"
          ],
          "name": "stdout"
        }
      ]
    },
    {
      "cell_type": "code",
      "metadata": {
        "id": "yORjDduOTiC-",
        "outputId": "f6b40b61-99d5-42d1-ebff-fb34fca23d5f",
        "colab": {
          "base_uri": "https://localhost:8080/"
        }
      },
      "source": [
        "#3 - vetor de zeros: com Numpy, você pode criar um vetor prenchido apenas por zeros\n",
        "z = np.zeros(100)\n",
        "\n",
        "print (z)"
      ],
      "execution_count": 8,
      "outputs": [
        {
          "output_type": "stream",
          "text": [
            "[0. 0. 0. 0. 0. 0. 0. 0. 0. 0. 0. 0. 0. 0. 0. 0. 0. 0. 0. 0. 0. 0. 0. 0.\n",
            " 0. 0. 0. 0. 0. 0. 0. 0. 0. 0. 0. 0. 0. 0. 0. 0. 0. 0. 0. 0. 0. 0. 0. 0.\n",
            " 0. 0. 0. 0. 0. 0. 0. 0. 0. 0. 0. 0. 0. 0. 0. 0. 0. 0. 0. 0. 0. 0. 0. 0.\n",
            " 0. 0. 0. 0. 0. 0. 0. 0. 0. 0. 0. 0. 0. 0. 0. 0. 0. 0. 0. 0. 0. 0. 0. 0.\n",
            " 0. 0. 0. 0.]\n"
          ],
          "name": "stdout"
        }
      ]
    },
    {
      "cell_type": "code",
      "metadata": {
        "id": "cW0nPObZUgQa",
        "outputId": "6ad97b05-dc75-4ce4-a929-23e8d87bc8c9",
        "colab": {
          "base_uri": "https://localhost:8080/"
        }
      },
      "source": [
        "#4 - da mesma forma, podemos criar um vetor preenchidos apenas por 'uns':\n",
        "o = np.ones(100)\n",
        "\n",
        "print(o)"
      ],
      "execution_count": 9,
      "outputs": [
        {
          "output_type": "stream",
          "text": [
            "[1. 1. 1. 1. 1. 1. 1. 1. 1. 1. 1. 1. 1. 1. 1. 1. 1. 1. 1. 1. 1. 1. 1. 1.\n",
            " 1. 1. 1. 1. 1. 1. 1. 1. 1. 1. 1. 1. 1. 1. 1. 1. 1. 1. 1. 1. 1. 1. 1. 1.\n",
            " 1. 1. 1. 1. 1. 1. 1. 1. 1. 1. 1. 1. 1. 1. 1. 1. 1. 1. 1. 1. 1. 1. 1. 1.\n",
            " 1. 1. 1. 1. 1. 1. 1. 1. 1. 1. 1. 1. 1. 1. 1. 1. 1. 1. 1. 1. 1. 1. 1. 1.\n",
            " 1. 1. 1. 1.]\n"
          ],
          "name": "stdout"
        }
      ]
    },
    {
      "cell_type": "code",
      "metadata": {
        "id": "jZgbt0XaU42r",
        "outputId": "329a69dc-5fc4-4fcb-d38c-4102883820e7",
        "colab": {
          "base_uri": "https://localhost:8080/"
        }
      },
      "source": [
        "#5 - com a função 'eye', posso criar uma matriz onde a diagonal é composta por numeros um enquanto as demais posições são zero:\n",
        "e = np.eye(8)\n",
        "ee = np.eye(3)\n",
        "\n",
        "print (e)\n",
        "print (ee)"
      ],
      "execution_count": 11,
      "outputs": [
        {
          "output_type": "stream",
          "text": [
            "[[1. 0. 0. 0. 0. 0. 0. 0.]\n",
            " [0. 1. 0. 0. 0. 0. 0. 0.]\n",
            " [0. 0. 1. 0. 0. 0. 0. 0.]\n",
            " [0. 0. 0. 1. 0. 0. 0. 0.]\n",
            " [0. 0. 0. 0. 1. 0. 0. 0.]\n",
            " [0. 0. 0. 0. 0. 1. 0. 0.]\n",
            " [0. 0. 0. 0. 0. 0. 1. 0.]\n",
            " [0. 0. 0. 0. 0. 0. 0. 1.]]\n",
            "[[1. 0. 0.]\n",
            " [0. 1. 0.]\n",
            " [0. 0. 1.]]\n"
          ],
          "name": "stdout"
        }
      ]
    },
    {
      "cell_type": "code",
      "metadata": {
        "id": "BeWKQ0hvVjPG",
        "outputId": "14335caf-7343-4dee-fab0-fb7d726d724a",
        "colab": {
          "base_uri": "https://localhost:8080/"
        }
      },
      "source": [
        "#6 - usando 'diag', eu posso colocar qualquer valor na diagonal:\n",
        "d = np.diag([1,3,5,7,9])\n",
        "\n",
        "print (d)"
      ],
      "execution_count": 13,
      "outputs": [
        {
          "output_type": "stream",
          "text": [
            "[[1 0 0 0 0]\n",
            " [0 3 0 0 0]\n",
            " [0 0 5 0 0]\n",
            " [0 0 0 7 0]\n",
            " [0 0 0 0 9]]\n"
          ],
          "name": "stdout"
        }
      ]
    },
    {
      "cell_type": "code",
      "metadata": {
        "id": "2KiWeOEYWOqP",
        "outputId": "6a6e97ee-a8ad-4aa8-abfa-ff264a26dc9c",
        "colab": {
          "base_uri": "https://localhost:8080/"
        }
      },
      "source": [
        "#7 - também podemos criar uma matriz de booleanos\n",
        "b = np.array([True,True,False,True])\n",
        "\n",
        "print (b)"
      ],
      "execution_count": 14,
      "outputs": [
        {
          "output_type": "stream",
          "text": [
            "[ True  True False  True]\n"
          ],
          "name": "stdout"
        }
      ]
    },
    {
      "cell_type": "code",
      "metadata": {
        "id": "U2LE6wXWWlhw",
        "outputId": "81a941dc-32bb-45ac-896a-5ef8283d520e",
        "colab": {
          "base_uri": "https://localhost:8080/"
        }
      },
      "source": [
        "#8 - ou de strings...\n",
        "\n",
        "s = np.array([\"Python\", \"Java\", \"Kotlin\"])\n",
        "\n",
        "print (s)"
      ],
      "execution_count": 17,
      "outputs": [
        {
          "output_type": "stream",
          "text": [
            "['Python' 'Java' 'Kotlin']\n"
          ],
          "name": "stdout"
        }
      ]
    },
    {
      "cell_type": "code",
      "metadata": {
        "id": "IKcxh7iwXdYk",
        "outputId": "5ce947a2-f9dd-45c8-8882-bcff8759e79e",
        "colab": {
          "base_uri": "https://localhost:8080/"
        }
      },
      "source": [
        "#9 - o método linspace devolve um vetor igualmente distribuido de acordo com o informado no \"step\"\n",
        "#no exemplo abaixo, temos um vetor que vai de 0 a 10, dividido em 50 partes iguais.\n",
        "\n",
        "l = np.linspace(0, 10, 50)\n",
        "\n",
        "print(l)"
      ],
      "execution_count": 22,
      "outputs": [
        {
          "output_type": "stream",
          "text": [
            "[ 0.          0.20408163  0.40816327  0.6122449   0.81632653  1.02040816\n",
            "  1.2244898   1.42857143  1.63265306  1.83673469  2.04081633  2.24489796\n",
            "  2.44897959  2.65306122  2.85714286  3.06122449  3.26530612  3.46938776\n",
            "  3.67346939  3.87755102  4.08163265  4.28571429  4.48979592  4.69387755\n",
            "  4.89795918  5.10204082  5.30612245  5.51020408  5.71428571  5.91836735\n",
            "  6.12244898  6.32653061  6.53061224  6.73469388  6.93877551  7.14285714\n",
            "  7.34693878  7.55102041  7.75510204  7.95918367  8.16326531  8.36734694\n",
            "  8.57142857  8.7755102   8.97959184  9.18367347  9.3877551   9.59183673\n",
            "  9.79591837 10.        ]\n"
          ],
          "name": "stdout"
        }
      ]
    }
  ]
}