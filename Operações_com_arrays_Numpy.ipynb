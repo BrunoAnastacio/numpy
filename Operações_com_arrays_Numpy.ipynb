{
  "nbformat": 4,
  "nbformat_minor": 0,
  "metadata": {
    "colab": {
      "name": "Operações com arrays Numpy",
      "provenance": [],
      "authorship_tag": "ABX9TyMDlDnG0Q1TWT5F9friwwrK",
      "include_colab_link": true
    },
    "kernelspec": {
      "name": "python3",
      "display_name": "Python 3"
    }
  },
  "cells": [
    {
      "cell_type": "markdown",
      "metadata": {
        "id": "view-in-github",
        "colab_type": "text"
      },
      "source": [
        "<a href=\"https://colab.research.google.com/github/BrunoAnastacio/numpy/blob/main/Opera%C3%A7%C3%B5es_com_arrays_Numpy.ipynb\" target=\"_parent\"><img src=\"https://colab.research.google.com/assets/colab-badge.svg\" alt=\"Open In Colab\"/></a>"
      ]
    },
    {
      "cell_type": "code",
      "metadata": {
        "id": "qMgvJ8CjL4Gr"
      },
      "source": [
        "import numpy as np"
      ],
      "execution_count": 1,
      "outputs": []
    },
    {
      "cell_type": "code",
      "metadata": {
        "id": "17I0E8dSL-Do"
      },
      "source": [
        "#vamos criar duas matrizes\n",
        "\n",
        "a = np.arange(10)\n",
        "b = np.arange(10, 20)\n"
      ],
      "execution_count": 2,
      "outputs": []
    },
    {
      "cell_type": "code",
      "metadata": {
        "id": "GgIbt3D8MaLV",
        "outputId": "3ee7f160-e41c-4ea9-c913-e96899d989eb",
        "colab": {
          "base_uri": "https://localhost:8080/"
        }
      },
      "source": [
        "#aritimética básica com Numpy\n",
        "\n",
        "soma = a+b\n",
        "subtracao = a-b\n",
        "multiplicacao = a*b\n",
        "divisao = a/b\n",
        "\n",
        "print(soma)\n",
        "print(subtracao)\n",
        "print(multiplicacao)\n",
        "print(divisao)"
      ],
      "execution_count": 3,
      "outputs": [
        {
          "output_type": "stream",
          "text": [
            "[10 12 14 16 18 20 22 24 26 28]\n",
            "[-10 -10 -10 -10 -10 -10 -10 -10 -10 -10]\n",
            "[  0  11  24  39  56  75  96 119 144 171]\n",
            "[0.         0.09090909 0.16666667 0.23076923 0.28571429 0.33333333\n",
            " 0.375      0.41176471 0.44444444 0.47368421]\n"
          ],
          "name": "stdout"
        }
      ]
    },
    {
      "cell_type": "code",
      "metadata": {
        "id": "ud8RQQLGNnyp",
        "outputId": "e76ff0df-70f5-4277-d025-2252293a9f59",
        "colab": {
          "base_uri": "https://localhost:8080/"
        }
      },
      "source": [
        "# o que acontece se eu somar o vetor 'a' ao numero 100? Vamos verificar?\n",
        "c = a+100\n",
        "print(a)\n",
        "print(c)"
      ],
      "execution_count": 4,
      "outputs": [
        {
          "output_type": "stream",
          "text": [
            "[0 1 2 3 4 5 6 7 8 9]\n",
            "[100 101 102 103 104 105 106 107 108 109]\n"
          ],
          "name": "stdout"
        }
      ]
    },
    {
      "cell_type": "code",
      "metadata": {
        "id": "maCYqWK_N3p0",
        "outputId": "eca2c2a3-4513-4d56-a3d2-aafd90b6cb48",
        "colab": {
          "base_uri": "https://localhost:8080/"
        }
      },
      "source": [
        "#obtendo a média dos valores de um array\n",
        "d = c.mean()\n",
        "print(d)"
      ],
      "execution_count": 5,
      "outputs": [
        {
          "output_type": "stream",
          "text": [
            "104.5\n"
          ],
          "name": "stdout"
        }
      ]
    },
    {
      "cell_type": "code",
      "metadata": {
        "id": "KpHVmlz2OBLv",
        "outputId": "6e0feaa2-ef45-42d7-9896-975f99e9df58",
        "colab": {
          "base_uri": "https://localhost:8080/"
        }
      },
      "source": [
        "#Ordenando elementos de um array\n",
        "e = np.array([5,3,9,5,8])\n",
        "f = np.sort(e)\n",
        "print (f)"
      ],
      "execution_count": 6,
      "outputs": [
        {
          "output_type": "stream",
          "text": [
            "[3 5 5 8 9]\n"
          ],
          "name": "stdout"
        }
      ]
    },
    {
      "cell_type": "code",
      "metadata": {
        "id": "IQTSCKlUPhNv",
        "outputId": "423bbb43-775c-4175-bde9-a4439aa9bf47",
        "colab": {
          "base_uri": "https://localhost:8080/"
        }
      },
      "source": [
        "#Potenciação com vetores\n",
        "\n",
        "#a operação abaixo cria um novo vetor com o resultado de 2 elevado a cada um dos elemento do vetor g\n",
        "\n",
        "g = 2**f\n",
        "print(f)\n",
        "print (g)"
      ],
      "execution_count": 7,
      "outputs": [
        {
          "output_type": "stream",
          "text": [
            "[3 5 5 8 9]\n",
            "[  8  32  32 256 512]\n"
          ],
          "name": "stdout"
        }
      ]
    },
    {
      "cell_type": "code",
      "metadata": {
        "id": "dBPusAWsSZ5Z",
        "outputId": "0a4977cb-9380-4e3a-a801-79ac676c5c35",
        "colab": {
          "base_uri": "https://localhost:8080/"
        }
      },
      "source": [
        "#Aqui acontece o contrário:\n",
        "#Um novo vetor com o resultado da elevação de cada elemento do vetor ao quadrado\n",
        "\n",
        "h = f**2\n",
        "print(f)\n",
        "print(h)"
      ],
      "execution_count": 8,
      "outputs": [
        {
          "output_type": "stream",
          "text": [
            "[3 5 5 8 9]\n",
            "[ 9 25 25 64 81]\n"
          ],
          "name": "stdout"
        }
      ]
    },
    {
      "cell_type": "code",
      "metadata": {
        "id": "-y4_AvsxUiEX",
        "outputId": "98d46f4e-a058-4d74-b452-10e2ec8f17b3",
        "colab": {
          "base_uri": "https://localhost:8080/"
        }
      },
      "source": [
        "#para encontrar a raiz quadrada de cada elemento do vetor, basta eleva-lo à 1/2\n",
        "\n",
        "i = h**0.5\n",
        "print (i)"
      ],
      "execution_count": 9,
      "outputs": [
        {
          "output_type": "stream",
          "text": [
            "[3. 5. 5. 8. 9.]\n"
          ],
          "name": "stdout"
        }
      ]
    }
  ]
}