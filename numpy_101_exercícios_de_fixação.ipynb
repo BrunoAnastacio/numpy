{
  "nbformat": 4,
  "nbformat_minor": 0,
  "metadata": {
    "colab": {
      "provenance": [],
      "authorship_tag": "ABX9TyPpDMZf8NpxMkX3nKayWH9b",
      "include_colab_link": true
    },
    "kernelspec": {
      "name": "python3",
      "display_name": "Python 3"
    },
    "language_info": {
      "name": "python"
    }
  },
  "cells": [
    {
      "cell_type": "markdown",
      "metadata": {
        "id": "view-in-github",
        "colab_type": "text"
      },
      "source": [
        "<a href=\"https://colab.research.google.com/github/BrunoAnastacio/numpy/blob/main/numpy_101_exerc%C3%ADcios_de_fixa%C3%A7%C3%A3o.ipynb\" target=\"_parent\"><img src=\"https://colab.research.google.com/assets/colab-badge.svg\" alt=\"Open In Colab\"/></a>"
      ]
    },
    {
      "cell_type": "markdown",
      "source": [
        "#101 Numpy EXERCISES\n",
        "\n",
        "> https://www.machinelearningplus.com/python/101-numpy-exercises-python/\n",
        "\n"
      ],
      "metadata": {
        "id": "rXKfqOq0NfDP"
      }
    },
    {
      "cell_type": "markdown",
      "source": [
        "### 1. Import numpy as np and see the version"
      ],
      "metadata": {
        "id": "lGaFDuhZODAO"
      }
    },
    {
      "cell_type": "code",
      "execution_count": 1,
      "metadata": {
        "colab": {
          "base_uri": "https://localhost:8080/"
        },
        "id": "u28fucWzMWI-",
        "outputId": "4c9af656-c3db-4f18-b387-6ce8497affdd"
      },
      "outputs": [
        {
          "output_type": "stream",
          "name": "stdout",
          "text": [
            "1.22.4\n"
          ]
        }
      ],
      "source": [
        "import numpy as np #importa a lib numpy\n",
        "print(np.__version__) #da um print no atributo \"__version__\""
      ]
    },
    {
      "cell_type": "code",
      "source": [
        "#por exemplo: vamos fazer o mesmo tentando importas a lib pandas...\n",
        "import pandas as pd\n",
        "print(pd.__version__)"
      ],
      "metadata": {
        "colab": {
          "base_uri": "https://localhost:8080/"
        },
        "id": "Xkj9UUS7NefK",
        "outputId": "e58af4e3-c811-4150-9c8e-c8d94c84c1ff"
      },
      "execution_count": 2,
      "outputs": [
        {
          "output_type": "stream",
          "name": "stdout",
          "text": [
            "1.4.4\n"
          ]
        }
      ]
    },
    {
      "cell_type": "code",
      "source": [
        "#... e a tkinter\n",
        "import tkinter as tk\n",
        "print(tk.__version__)\n",
        "\n",
        "#como tkinter não tem  atributo \"__version__\" implementado, o código dará erro"
      ],
      "metadata": {
        "colab": {
          "base_uri": "https://localhost:8080/",
          "height": 208
        },
        "id": "5kTBc_NZTmga",
        "outputId": "228ff04f-c59a-4c6f-a275-271af131edec"
      },
      "execution_count": 3,
      "outputs": [
        {
          "output_type": "error",
          "ename": "AttributeError",
          "evalue": "ignored",
          "traceback": [
            "\u001b[0;31m---------------------------------------------------------------------------\u001b[0m",
            "\u001b[0;31mAttributeError\u001b[0m                            Traceback (most recent call last)",
            "\u001b[0;32m<ipython-input-3-cfe9877a375a>\u001b[0m in \u001b[0;36m<module>\u001b[0;34m\u001b[0m\n\u001b[1;32m      1\u001b[0m \u001b[0;31m#... e a tkinter\u001b[0m\u001b[0;34m\u001b[0m\u001b[0;34m\u001b[0m\u001b[0m\n\u001b[1;32m      2\u001b[0m \u001b[0;32mimport\u001b[0m \u001b[0mtkinter\u001b[0m \u001b[0;32mas\u001b[0m \u001b[0mtk\u001b[0m\u001b[0;34m\u001b[0m\u001b[0;34m\u001b[0m\u001b[0m\n\u001b[0;32m----> 3\u001b[0;31m \u001b[0mprint\u001b[0m\u001b[0;34m(\u001b[0m\u001b[0mtk\u001b[0m\u001b[0;34m.\u001b[0m\u001b[0m__version__\u001b[0m\u001b[0;34m)\u001b[0m\u001b[0;34m\u001b[0m\u001b[0;34m\u001b[0m\u001b[0m\n\u001b[0m",
            "\u001b[0;31mAttributeError\u001b[0m: module 'tkinter' has no attribute '__version__'"
          ]
        }
      ]
    },
    {
      "cell_type": "markdown",
      "source": [
        "2. How to create a 1D array?"
      ],
      "metadata": {
        "id": "3MA4HKpWXJOX"
      }
    },
    {
      "cell_type": "code",
      "source": [
        "arr = np.arange(10)\n",
        "arr"
      ],
      "metadata": {
        "colab": {
          "base_uri": "https://localhost:8080/"
        },
        "id": "32AuPe9KTyBY",
        "outputId": "fdc79768-de34-4eed-fe05-9aa98e6dafdf"
      },
      "execution_count": 4,
      "outputs": [
        {
          "output_type": "execute_result",
          "data": {
            "text/plain": [
              "array([0, 1, 2, 3, 4, 5, 6, 7, 8, 9])"
            ]
          },
          "metadata": {},
          "execution_count": 4
        }
      ]
    },
    {
      "cell_type": "code",
      "source": [
        "brr = np.arange(5*5)\n",
        "brr"
      ],
      "metadata": {
        "colab": {
          "base_uri": "https://localhost:8080/"
        },
        "id": "O9wzmc1EXfaC",
        "outputId": "3d3fa206-d688-4103-d312-e9a1eca2918f"
      },
      "execution_count": 6,
      "outputs": [
        {
          "output_type": "execute_result",
          "data": {
            "text/plain": [
              "array([ 0,  1,  2,  3,  4,  5,  6,  7,  8,  9, 10, 11, 12, 13, 14, 15, 16,\n",
              "       17, 18, 19, 20, 21, 22, 23, 24])"
            ]
          },
          "metadata": {},
          "execution_count": 6
        }
      ]
    },
    {
      "cell_type": "markdown",
      "source": [
        "3. How to create a boolean array?"
      ],
      "metadata": {
        "id": "amfZQ1jYd2z2"
      }
    },
    {
      "cell_type": "code",
      "source": [
        "crr = np.full((3, 3), False, dtype=bool)\n",
        "crr"
      ],
      "metadata": {
        "colab": {
          "base_uri": "https://localhost:8080/"
        },
        "id": "qbPIBT0udzLI",
        "outputId": "9575b1b2-d4de-4ed9-9c57-98cae8ced649"
      },
      "execution_count": 18,
      "outputs": [
        {
          "output_type": "execute_result",
          "data": {
            "text/plain": [
              "array([[False, False, False],\n",
              "       [False, False, False],\n",
              "       [False, False, False]])"
            ]
          },
          "metadata": {},
          "execution_count": 18
        }
      ]
    },
    {
      "cell_type": "markdown",
      "source": [
        "4. How to extract items that satisfy a given condition from 1D array?"
      ],
      "metadata": {
        "id": "qBgJKXO1gLy3"
      }
    },
    {
      "cell_type": "code",
      "source": [
        "# Input\n",
        "arr = np.array([0, 1, 2, 3, 4, 5, 6, 7, 8, 9])\n",
        "\n",
        "# Solution\n",
        "# consigo usar uma expressão dentro dos []\n",
        "arr[arr % 2 == 1]\n",
        "arr"
      ],
      "metadata": {
        "colab": {
          "base_uri": "https://localhost:8080/"
        },
        "id": "IZziSfE-gNcM",
        "outputId": "c8611251-7e89-481e-a61c-825bddaa34cc"
      },
      "execution_count": 32,
      "outputs": [
        {
          "output_type": "execute_result",
          "data": {
            "text/plain": [
              "array([0, 0, 2, 0, 4, 0, 6, 0, 8, 0])"
            ]
          },
          "metadata": {},
          "execution_count": 32
        }
      ]
    },
    {
      "cell_type": "code",
      "source": [
        "# por exemplo, poderia utilizar list comprehension\n",
        "arr[[x for x in range(5)]]\n",
        "arr"
      ],
      "metadata": {
        "colab": {
          "base_uri": "https://localhost:8080/"
        },
        "id": "j9YH2SCIhbV4",
        "outputId": "40825a46-d1b3-4243-8870-9f5df9bbc658"
      },
      "execution_count": 29,
      "outputs": [
        {
          "output_type": "execute_result",
          "data": {
            "text/plain": [
              "array([0, 1, 2, 3, 4])"
            ]
          },
          "metadata": {},
          "execution_count": 29
        }
      ]
    },
    {
      "cell_type": "markdown",
      "source": [
        "6. How to replace items that satisfy a condition without affecting the original array?"
      ],
      "metadata": {
        "id": "sD41VtJFiXZb"
      }
    },
    {
      "cell_type": "code",
      "source": [
        "arr[arr % 2 == 1] = 0\n",
        "arr"
      ],
      "metadata": {
        "colab": {
          "base_uri": "https://localhost:8080/"
        },
        "id": "Q2CpL_TkidHX",
        "outputId": "488bda09-d894-478e-facf-abe86edee26f"
      },
      "execution_count": 33,
      "outputs": [
        {
          "output_type": "execute_result",
          "data": {
            "text/plain": [
              "array([0, 0, 2, 0, 4, 0, 6, 0, 8, 0])"
            ]
          },
          "metadata": {},
          "execution_count": 33
        }
      ]
    },
    {
      "cell_type": "code",
      "source": [
        "arr[[x for x in range(5)]]  = 10\n",
        "arr"
      ],
      "metadata": {
        "colab": {
          "base_uri": "https://localhost:8080/"
        },
        "id": "xeJ1LlJqihNN",
        "outputId": "4715863a-02d3-4c0f-da1d-d30462f61e40"
      },
      "execution_count": 34,
      "outputs": [
        {
          "output_type": "execute_result",
          "data": {
            "text/plain": [
              "array([10, 10, 10, 10, 10,  0,  6,  0,  8,  0])"
            ]
          },
          "metadata": {},
          "execution_count": 34
        }
      ]
    },
    {
      "cell_type": "markdown",
      "source": [
        "7. How to reshape an array?"
      ],
      "metadata": {
        "id": "0kJPkLpujlok"
      }
    },
    {
      "cell_type": "code",
      "source": [
        "arr = np.arange(12).reshape(4,3) #(quantos novos arrays, tamanho dos novos arrays)\n",
        "\n",
        "#lembrando que esse \"a,b\" tem que ser a*b = tamanho do array original\n",
        "\n",
        "#ao setar o segundo atributo como -1 , o newshape será definido automaticamente\n"
      ],
      "metadata": {
        "colab": {
          "base_uri": "https://localhost:8080/"
        },
        "id": "kmkHe6mZi2uf",
        "outputId": "e206f903-649b-4b1f-a801-03839b0fd49a"
      },
      "execution_count": 43,
      "outputs": [
        {
          "output_type": "execute_result",
          "data": {
            "text/plain": [
              "array([[ 0,  1,  2],\n",
              "       [ 3,  4,  5],\n",
              "       [ 6,  7,  8],\n",
              "       [ 9, 10, 11]])"
            ]
          },
          "metadata": {},
          "execution_count": 43
        }
      ]
    },
    {
      "cell_type": "code",
      "source": [
        "#segurança\n",
        "\n",
        "#ia/ml/ds, dba, infra/cloud, devops \n",
        "#backend\n",
        "#front, ux, mobile\n",
        "#QA\n",
        "#seo"
      ],
      "metadata": {
        "id": "jJ5vrU71klpC"
      },
      "execution_count": null,
      "outputs": []
    },
    {
      "cell_type": "markdown",
      "source": [
        "8, 9. Stacking arrays"
      ],
      "metadata": {
        "id": "whqgzIfSnobC"
      }
    },
    {
      "cell_type": "code",
      "source": [
        "#verticalmente\n",
        "a = np.arange(10).reshape(2,-1)\n",
        "b = np.repeat(1, 10).reshape(2,-1)\n",
        "\n",
        "#tres formas de se fazer\n",
        "np.concatenate ([a,b], axis = 0)\n",
        "#np.vstack([a,b])\n",
        "#np.r_[a,b]"
      ],
      "metadata": {
        "colab": {
          "base_uri": "https://localhost:8080/"
        },
        "id": "ddgNqAiKmP8V",
        "outputId": "e8d92453-24f5-47e3-8d78-7a6aca3a556c"
      },
      "execution_count": 48,
      "outputs": [
        {
          "output_type": "execute_result",
          "data": {
            "text/plain": [
              "array([[0, 1, 2, 3, 4],\n",
              "       [5, 6, 7, 8, 9],\n",
              "       [1, 1, 1, 1, 1],\n",
              "       [1, 1, 1, 1, 1]])"
            ]
          },
          "metadata": {},
          "execution_count": 48
        }
      ]
    },
    {
      "cell_type": "code",
      "source": [
        "#horizontalmmente\n",
        "a = np.arange(15).reshape(3,5)\n",
        "b = np.repeat(1,15).reshape(3,5)\n",
        "\n",
        "#np.concatenate([a,b], axis = 1)\n",
        "np.hstack([a,b])\n",
        "#np.h_[a,b]"
      ],
      "metadata": {
        "colab": {
          "base_uri": "https://localhost:8080/"
        },
        "id": "9lTwfkzCocja",
        "outputId": "c168b3c4-7408-49ef-8480-092e38330b90"
      },
      "execution_count": 50,
      "outputs": [
        {
          "output_type": "execute_result",
          "data": {
            "text/plain": [
              "array([[ 0,  1,  2,  3,  4,  1,  1,  1,  1,  1],\n",
              "       [ 5,  6,  7,  8,  9,  1,  1,  1,  1,  1],\n",
              "       [10, 11, 12, 13, 14,  1,  1,  1,  1,  1]])"
            ]
          },
          "metadata": {},
          "execution_count": 50
        }
      ]
    },
    {
      "cell_type": "markdown",
      "source": [
        "10. How to generate custom sequences in numpy without hardcoding?"
      ],
      "metadata": {
        "id": "gFd8EtetocaS"
      }
    },
    {
      "cell_type": "code",
      "source": [
        "a = np.array([1,2,3])\n",
        "#np.r_[np.repeat(a, 3), np.tile(a, 3)]\n",
        "np.r_[np.tile(a, 4)]"
      ],
      "metadata": {
        "colab": {
          "base_uri": "https://localhost:8080/"
        },
        "id": "pNUqO7z0pVup",
        "outputId": "40b44ff4-dc74-492f-910c-1d4e54a0d2e0"
      },
      "execution_count": 53,
      "outputs": [
        {
          "output_type": "execute_result",
          "data": {
            "text/plain": [
              "array([1, 2, 3, 1, 2, 3, 1, 2, 3, 1, 2, 3])"
            ]
          },
          "metadata": {},
          "execution_count": 53
        }
      ]
    },
    {
      "cell_type": "markdown",
      "source": [
        "11. How to get the common items between two python numpy arrays?"
      ],
      "metadata": {
        "id": "woowN3reqfC5"
      }
    },
    {
      "cell_type": "code",
      "source": [
        "a = np.tile([1,4,7],5)\n",
        "b = np.tile([1,3,5,7,9],9)\n",
        "c = np.arange(10)\n",
        "np.intersect1d(c,b)"
      ],
      "metadata": {
        "colab": {
          "base_uri": "https://localhost:8080/"
        },
        "id": "DHPis0iWqeWh",
        "outputId": "6ffe70b3-cad2-4be8-82ac-29cb26d86f2d"
      },
      "execution_count": 58,
      "outputs": [
        {
          "output_type": "execute_result",
          "data": {
            "text/plain": [
              "array([1, 3, 5, 7, 9])"
            ]
          },
          "metadata": {},
          "execution_count": 58
        }
      ]
    },
    {
      "cell_type": "code",
      "source": [
        "#para verificar mais de dois arrays, pdoemos utilizar a função reduce\n",
        "from functools import reduce\n",
        "reduce(np.intersect1d, (a,b,c))"
      ],
      "metadata": {
        "colab": {
          "base_uri": "https://localhost:8080/"
        },
        "id": "EqpYTXa_reyl",
        "outputId": "579fdef8-dd27-4db3-b9b6-4dd726d2fec4"
      },
      "execution_count": 59,
      "outputs": [
        {
          "output_type": "execute_result",
          "data": {
            "text/plain": [
              "array([1, 7])"
            ]
          },
          "metadata": {},
          "execution_count": 59
        }
      ]
    }
  ]
}