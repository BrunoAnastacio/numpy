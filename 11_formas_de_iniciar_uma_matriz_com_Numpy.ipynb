{
  "nbformat": 4,
  "nbformat_minor": 0,
  "metadata": {
    "colab": {
      "name": "11 formas de iniciar uma matriz com Numpy",
      "provenance": [],
      "authorship_tag": "ABX9TyNnEHjEICuD+0aVLvIBUOb/",
      "include_colab_link": true
    },
    "kernelspec": {
      "name": "python3",
      "display_name": "Python 3"
    }
  },
  "cells": [
    {
      "cell_type": "markdown",
      "metadata": {
        "id": "view-in-github",
        "colab_type": "text"
      },
      "source": [
        "<a href=\"https://colab.research.google.com/github/BrunoAnastacio/numpy/blob/main/11_formas_de_iniciar_uma_matriz_com_Numpy.ipynb\" target=\"_parent\"><img src=\"https://colab.research.google.com/assets/colab-badge.svg\" alt=\"Open In Colab\"/></a>"
      ]
    },
    {
      "cell_type": "code",
      "metadata": {
        "id": "jQXX-NKrQ8oQ"
      },
      "source": [
        "import numpy as np"
      ],
      "execution_count": 13,
      "outputs": []
    },
    {
      "cell_type": "code",
      "metadata": {
        "id": "uxC0YSgGRGI3",
        "outputId": "823f9472-9a47-4ca2-cf30-ba2726231904",
        "colab": {
          "base_uri": "https://localhost:8080/",
          "height": 67
        }
      },
      "source": [
        "#1 - utilizando o metodo np.array, recebendo uma lista em Python como parâmetro\n",
        "v = np.array([1,2,3])\n",
        "\n",
        "matriz = [[1,2,3],[4,5,6]]\n",
        "\n",
        "m = np.array(matriz)\n",
        "\n",
        "print (v)\n",
        "print (m)"
      ],
      "execution_count": 14,
      "outputs": [
        {
          "output_type": "stream",
          "text": [
            "[1 2 3]\n",
            "[[1 2 3]\n",
            " [4 5 6]]\n"
          ],
          "name": "stdout"
        }
      ]
    },
    {
      "cell_type": "code",
      "metadata": {
        "id": "YOK_YJqxRlg9",
        "outputId": "bff2d61b-a723-4227-9cbc-cdf317b06d53",
        "colab": {
          "base_uri": "https://localhost:8080/",
          "height": 34
        }
      },
      "source": [
        "#2 - também é possível inicializar um vetor Numpy à partir de uma tupla:\n",
        "\n",
        "t = np.array((2,3,4))\n",
        "print (t)"
      ],
      "execution_count": 15,
      "outputs": [
        {
          "output_type": "stream",
          "text": [
            "[2 3 4]\n"
          ],
          "name": "stdout"
        }
      ]
    },
    {
      "cell_type": "code",
      "metadata": {
        "id": "zyRGk2D3SYMK",
        "outputId": "2340a217-447e-4281-9094-dd1a8f5d0bda",
        "colab": {
          "base_uri": "https://localhost:8080/",
          "height": 50
        }
      },
      "source": [
        "#3 - usando np.arange, que cria um array no melhor estilo \"start, stop, step\" das 'ranges' em Python\n",
        "#Como parâmetros, devemos passar o número onde começa o nosso vetor, o número onde ele termina e de quantos em quantos números ele deve pular\n",
        "\n",
        "a = np.arange(10,100,5)\n",
        "b = np.arange(100,20,-20) #entendeu o que aconteceu aqui?\n",
        "print (a)\n",
        "print (b)"
      ],
      "execution_count": 16,
      "outputs": [
        {
          "output_type": "stream",
          "text": [
            "[10 15 20 25 30 35 40 45 50 55 60 65 70 75 80 85 90 95]\n",
            "[100  80  60  40]\n"
          ],
          "name": "stdout"
        }
      ]
    },
    {
      "cell_type": "code",
      "metadata": {
        "id": "yORjDduOTiC-",
        "outputId": "0cb9e299-ff44-4de4-b7d2-c08dab971c20",
        "colab": {
          "base_uri": "https://localhost:8080/",
          "height": 101
        }
      },
      "source": [
        "#4 - vetor de zeros: com Numpy, você pode criar um vetor prenchido apenas por zeros\n",
        "z = np.zeros(100)\n",
        "\n",
        "print (z)"
      ],
      "execution_count": 17,
      "outputs": [
        {
          "output_type": "stream",
          "text": [
            "[0. 0. 0. 0. 0. 0. 0. 0. 0. 0. 0. 0. 0. 0. 0. 0. 0. 0. 0. 0. 0. 0. 0. 0.\n",
            " 0. 0. 0. 0. 0. 0. 0. 0. 0. 0. 0. 0. 0. 0. 0. 0. 0. 0. 0. 0. 0. 0. 0. 0.\n",
            " 0. 0. 0. 0. 0. 0. 0. 0. 0. 0. 0. 0. 0. 0. 0. 0. 0. 0. 0. 0. 0. 0. 0. 0.\n",
            " 0. 0. 0. 0. 0. 0. 0. 0. 0. 0. 0. 0. 0. 0. 0. 0. 0. 0. 0. 0. 0. 0. 0. 0.\n",
            " 0. 0. 0. 0.]\n"
          ],
          "name": "stdout"
        }
      ]
    },
    {
      "cell_type": "code",
      "metadata": {
        "id": "cW0nPObZUgQa",
        "outputId": "efcb4277-c69c-4847-c5b7-254bc4c8132a",
        "colab": {
          "base_uri": "https://localhost:8080/",
          "height": 101
        }
      },
      "source": [
        "#5 - da mesma forma, podemos criar um vetor preenchidos apenas por 'uns':\n",
        "o = np.ones(100)\n",
        "\n",
        "print(o)"
      ],
      "execution_count": 18,
      "outputs": [
        {
          "output_type": "stream",
          "text": [
            "[1. 1. 1. 1. 1. 1. 1. 1. 1. 1. 1. 1. 1. 1. 1. 1. 1. 1. 1. 1. 1. 1. 1. 1.\n",
            " 1. 1. 1. 1. 1. 1. 1. 1. 1. 1. 1. 1. 1. 1. 1. 1. 1. 1. 1. 1. 1. 1. 1. 1.\n",
            " 1. 1. 1. 1. 1. 1. 1. 1. 1. 1. 1. 1. 1. 1. 1. 1. 1. 1. 1. 1. 1. 1. 1. 1.\n",
            " 1. 1. 1. 1. 1. 1. 1. 1. 1. 1. 1. 1. 1. 1. 1. 1. 1. 1. 1. 1. 1. 1. 1. 1.\n",
            " 1. 1. 1. 1.]\n"
          ],
          "name": "stdout"
        }
      ]
    },
    {
      "cell_type": "code",
      "metadata": {
        "id": "jZgbt0XaU42r",
        "outputId": "b4014191-3360-42ee-e046-61472161e7fa",
        "colab": {
          "base_uri": "https://localhost:8080/",
          "height": 202
        }
      },
      "source": [
        "#6 - com a função 'eye', posso criar uma matriz onde a diagonal é composta por numeros um enquanto as demais posições são zero:\n",
        "e = np.eye(8)\n",
        "ee = np.eye(3)\n",
        "\n",
        "print (e)\n",
        "print (ee)"
      ],
      "execution_count": 19,
      "outputs": [
        {
          "output_type": "stream",
          "text": [
            "[[1. 0. 0. 0. 0. 0. 0. 0.]\n",
            " [0. 1. 0. 0. 0. 0. 0. 0.]\n",
            " [0. 0. 1. 0. 0. 0. 0. 0.]\n",
            " [0. 0. 0. 1. 0. 0. 0. 0.]\n",
            " [0. 0. 0. 0. 1. 0. 0. 0.]\n",
            " [0. 0. 0. 0. 0. 1. 0. 0.]\n",
            " [0. 0. 0. 0. 0. 0. 1. 0.]\n",
            " [0. 0. 0. 0. 0. 0. 0. 1.]]\n",
            "[[1. 0. 0.]\n",
            " [0. 1. 0.]\n",
            " [0. 0. 1.]]\n"
          ],
          "name": "stdout"
        }
      ]
    },
    {
      "cell_type": "code",
      "metadata": {
        "id": "BeWKQ0hvVjPG",
        "outputId": "fe0002c3-9554-43bf-8803-84e2f8cdd471",
        "colab": {
          "base_uri": "https://localhost:8080/",
          "height": 101
        }
      },
      "source": [
        "#7 - usando 'diag', eu posso colocar qualquer valor na diagonal:\n",
        "d = np.diag([1,3,5,7,9])\n",
        "\n",
        "print (d)"
      ],
      "execution_count": 20,
      "outputs": [
        {
          "output_type": "stream",
          "text": [
            "[[1 0 0 0 0]\n",
            " [0 3 0 0 0]\n",
            " [0 0 5 0 0]\n",
            " [0 0 0 7 0]\n",
            " [0 0 0 0 9]]\n"
          ],
          "name": "stdout"
        }
      ]
    },
    {
      "cell_type": "code",
      "metadata": {
        "id": "2KiWeOEYWOqP",
        "outputId": "1f2daed7-0b87-4457-8b34-943528437313",
        "colab": {
          "base_uri": "https://localhost:8080/",
          "height": 34
        }
      },
      "source": [
        "#8 - também podemos criar uma matriz de booleanos\n",
        "b = np.array([True,True,False,True])\n",
        "\n",
        "print (b)"
      ],
      "execution_count": 21,
      "outputs": [
        {
          "output_type": "stream",
          "text": [
            "[ True  True False  True]\n"
          ],
          "name": "stdout"
        }
      ]
    },
    {
      "cell_type": "code",
      "metadata": {
        "id": "U2LE6wXWWlhw",
        "outputId": "f4d89486-4778-4b9b-9b5f-46035d2aeda6",
        "colab": {
          "base_uri": "https://localhost:8080/",
          "height": 34
        }
      },
      "source": [
        "#9 - ou de strings...\n",
        "\n",
        "s = np.array([\"Python\", \"Java\", \"Kotlin\"])\n",
        "\n",
        "print (s)"
      ],
      "execution_count": 22,
      "outputs": [
        {
          "output_type": "stream",
          "text": [
            "['Python' 'Java' 'Kotlin']\n"
          ],
          "name": "stdout"
        }
      ]
    },
    {
      "cell_type": "code",
      "metadata": {
        "id": "IKcxh7iwXdYk",
        "outputId": "962e7ccb-d8c2-4ee2-c4c6-a85e5ba67f6f",
        "colab": {
          "base_uri": "https://localhost:8080/",
          "height": 168
        }
      },
      "source": [
        "#10 - o método linspace devolve um vetor igualmente distribuido de acordo com o informado no \"step\"\n",
        "#no exemplo abaixo, temos um vetor que vai de 0 a 10, dividido em 50 partes iguais.\n",
        "\n",
        "l = np.linspace(0, 10, 50)\n",
        "\n",
        "print(l)"
      ],
      "execution_count": 23,
      "outputs": [
        {
          "output_type": "stream",
          "text": [
            "[ 0.          0.20408163  0.40816327  0.6122449   0.81632653  1.02040816\n",
            "  1.2244898   1.42857143  1.63265306  1.83673469  2.04081633  2.24489796\n",
            "  2.44897959  2.65306122  2.85714286  3.06122449  3.26530612  3.46938776\n",
            "  3.67346939  3.87755102  4.08163265  4.28571429  4.48979592  4.69387755\n",
            "  4.89795918  5.10204082  5.30612245  5.51020408  5.71428571  5.91836735\n",
            "  6.12244898  6.32653061  6.53061224  6.73469388  6.93877551  7.14285714\n",
            "  7.34693878  7.55102041  7.75510204  7.95918367  8.16326531  8.36734694\n",
            "  8.57142857  8.7755102   8.97959184  9.18367347  9.3877551   9.59183673\n",
            "  9.79591837 10.        ]\n"
          ],
          "name": "stdout"
        }
      ]
    },
    {
      "cell_type": "code",
      "metadata": {
        "id": "3_OziBUflmmx",
        "outputId": "3fdf9eb3-43e9-4f01-b7da-f54bac364a28",
        "colab": {
          "base_uri": "https://localhost:8080/",
          "height": 202
        }
      },
      "source": [
        "#11 - criando uma matriz com valores aleatórios\n",
        "\n",
        "rnd = np.random.rand(3,3,3)\n",
        "print(rnd)"
      ],
      "execution_count": 24,
      "outputs": [
        {
          "output_type": "stream",
          "text": [
            "[[[0.85335195 0.25369801 0.46129548]\n",
            "  [0.69493158 0.93891877 0.28857706]\n",
            "  [0.58096479 0.37519449 0.15299963]]\n",
            "\n",
            " [[0.82362524 0.57273643 0.02766573]\n",
            "  [0.83407615 0.73226036 0.41458584]\n",
            "  [0.01610694 0.32614932 0.61936262]]\n",
            "\n",
            " [[0.0295057  0.1071113  0.2377057 ]\n",
            "  [0.07274471 0.23223111 0.36607369]\n",
            "  [0.12057887 0.05159337 0.83255393]]]\n"
          ],
          "name": "stdout"
        }
      ]
    }
  ]
}